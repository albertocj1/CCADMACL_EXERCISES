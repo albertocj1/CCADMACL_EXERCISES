{
  "cells": [
    {
      "cell_type": "markdown",
      "metadata": {
        "colab_type": "text",
        "id": "view-in-github"
      },
      "source": [
        "<a href=\"https://colab.research.google.com/github/albertocj1/CCADMACL_EXERCISES/blob/main/Exercise1.ipynb\" target=\"_parent\"><img src=\"https://colab.research.google.com/assets/colab-badge.svg\" alt=\"Open In Colab\"/></a>"
      ]
    },
    {
      "cell_type": "markdown",
      "metadata": {
        "id": "wyguhJBCREPq"
      },
      "source": [
        "# Exercise 1\n",
        "\n",
        "Use all feature selection methods to find the best features"
      ]
    },
    {
      "cell_type": "markdown",
      "metadata": {
        "id": "W1nEzxdXQbpH"
      },
      "source": [
        "## Dataset Information\n",
        "\n",
        "## Features\n",
        "\n",
        "Number of Instances: 20640\n",
        "\n",
        "Number of Attributes: 8 numeric, predictive attributes and the target\n",
        "\n",
        "Attribute Information:\n",
        "\n",
        "MedInc - median income in block group\n",
        "\n",
        "HouseAge - median house age in block group\n",
        "\n",
        "AveRooms - average number of rooms per household\n",
        "\n",
        "AveBedrms - average number of bedrooms per household\n",
        "\n",
        "Population - block group population\n",
        "\n",
        "AveOccup - average number of household members\n",
        "\n",
        "Latitude - block group latitude\n",
        "\n",
        "Longitude - block group longitude\n",
        "\n",
        "## Target\n",
        "The target variable is the median house value for California districts, expressed in hundreds of thousands of dollars ($100,000)."
      ]
    },
    {
      "cell_type": "code",
      "execution_count": 70,
      "metadata": {
        "id": "ZAVjjtJ9PVED"
      },
      "outputs": [],
      "source": [
        "from sklearn.datasets import fetch_california_housing\n",
        "from sklearn.feature_selection import VarianceThreshold\n",
        "import pandas as pd"
      ]
    },
    {
      "cell_type": "code",
      "execution_count": 71,
      "metadata": {
        "id": "N12mwL2GPX48"
      },
      "outputs": [],
      "source": [
        "df_housing = fetch_california_housing()\n",
        "df_features = pd.DataFrame(df_housing.data, columns=df_housing.feature_names)\n",
        "df_target = pd.DataFrame(df_housing.target, columns=[\"target\"])"
      ]
    },
    {
      "cell_type": "code",
      "execution_count": 81,
      "metadata": {
        "colab": {
          "base_uri": "https://localhost:8080/"
        },
        "id": "JBqSbR9xgNTj",
        "outputId": "bb269992-0973-495e-b76e-45a3cabc56ef"
      },
      "outputs": [
        {
          "name": "stdout",
          "output_type": "stream",
          "text": [
            "['MedInc', 'HouseAge', 'AveRooms', 'AveBedrms', 'Population', 'AveOccup', 'Latitude', 'Longitude']\n",
            "Mean Absolute Error (MAE): 0.5800\n",
            "Mean Squared Error (MSE): 0.6007\n",
            "R-squared (R2): 0.5416\n"
          ]
        }
      ],
      "source": [
        "from sklearn.ensemble import RandomForestRegressor\n",
        "from sklearn.model_selection import train_test_split\n",
        "from sklearn.metrics import mean_absolute_error, mean_squared_error, r2_score\n",
        "from sklearn.datasets import fetch_california_housing\n",
        "import pandas as pd\n",
        "\n",
        "# Load the California Housing dataset\n",
        "df_housing = fetch_california_housing()\n",
        "df_features = pd.DataFrame(df_housing.data, columns=df_housing.feature_names)\n",
        "df_target = pd.DataFrame(df_housing.target, columns=[\"target\"])\n",
        "\n",
        "# Step 1: Split data into training and testing sets\n",
        "X_train, X_test, y_train, y_test = train_test_split(df_features, df_target, test_size=0.2, random_state=42)\n",
        "\n",
        "# Step 2: Train the RandomForestRegressor\n",
        "model_rf = RandomForestRegressor(n_estimators=500, random_state=0, max_depth=3)\n",
        "model_rf.fit(X_train, y_train.values.ravel())\n",
        "\n",
        "# Step 3: Predict on the test set\n",
        "y_pred = model_rf.predict(X_test)\n",
        "\n",
        "# Step 4: Evaluate the model's performance\n",
        "mae = mean_absolute_error(y_test, y_pred)\n",
        "mse = mean_squared_error(y_test, y_pred)\n",
        "r2 = r2_score(y_test, y_pred)\n",
        "\n",
        "# Step 5: Print results\n",
        "print(df_features.columns.tolist())\n",
        "print(f\"Mean Absolute Error (MAE): {mae:.4f}\")\n",
        "print(f\"Mean Squared Error (MSE): {mse:.4f}\")\n",
        "print(f\"R-squared (R2): {r2:.4f}\")\n",
        "\n"
      ]
    },
    {
      "cell_type": "markdown",
      "metadata": {
        "id": "3b0DxR-obfdD"
      },
      "source": []
    },
    {
      "cell_type": "markdown",
      "metadata": {
        "id": "6tqvZqTtRgRe"
      },
      "source": [
        "1. Use any filter method to select the best features"
      ]
    },
    {
      "cell_type": "markdown",
      "metadata": {
        "id": "85hyFiU4bDrc"
      },
      "source": [
        "##F_classif\n"
      ]
    },
    {
      "cell_type": "code",
      "execution_count": 73,
      "metadata": {
        "id": "K5DB6f6jRmUF"
      },
      "outputs": [],
      "source": [
        "from sklearn.feature_selection import f_classif\n",
        "\n",
        "threshold = 5 # the number of most relevant features\n",
        "high_score_features = []\n",
        "feature_scores = f_classif(df_features, df_target.values.ravel())[0]"
      ]
    },
    {
      "cell_type": "code",
      "execution_count": 74,
      "metadata": {
        "colab": {
          "base_uri": "https://localhost:8080/"
        },
        "id": "EYWGAGWEb7o8",
        "outputId": "708e1d69-eaab-4110-a390-7f52ae1e7fba"
      },
      "outputs": [
        {
          "data": {
            "text/plain": [
              "Index(['MedInc', 'Latitude', 'Population', 'HouseAge', 'Longitude'], dtype='object')"
            ]
          },
          "execution_count": 74,
          "metadata": {},
          "output_type": "execute_result"
        }
      ],
      "source": [
        "for score, f_name in sorted(zip(feature_scores, df_features.columns), reverse=True)[:threshold]:\n",
        "      # print(f_name, score)\n",
        "      high_score_features.append(f_name)\n",
        "\n",
        "df_wine_fc = df_features[high_score_features]\n",
        "df_wine_fc.columns"
      ]
    },
    {
      "cell_type": "code",
      "execution_count": 77,
      "metadata": {
        "colab": {
          "base_uri": "https://localhost:8080/"
        },
        "id": "LeYHDS94m-eJ",
        "outputId": "ac940da4-e62b-4875-8e79-d4b74658865f"
      },
      "outputs": [
        {
          "name": "stderr",
          "output_type": "stream",
          "text": [
            "/usr/local/lib/python3.10/dist-packages/sklearn/base.py:1473: DataConversionWarning: A column-vector y was passed when a 1d array was expected. Please change the shape of y to (n_samples,), for example using ravel().\n",
            "  return fit_method(estimator, *args, **kwargs)\n"
          ]
        },
        {
          "name": "stdout",
          "output_type": "stream",
          "text": [
            "Selected Features: ['MedInc', 'Latitude', 'Population', 'HouseAge', 'Longitude']\n",
            "Mean Absolute Error (MAE): 0.5965\n",
            "Mean Squared Error (MSE): 0.6537\n",
            "R-squared (R2): 0.5011\n"
          ]
        }
      ],
      "source": [
        "from sklearn.ensemble import RandomForestRegressor\n",
        "from sklearn.feature_selection import RFE\n",
        "from sklearn.model_selection import train_test_split\n",
        "from sklearn.metrics import mean_absolute_error, mean_squared_error, r2_score\n",
        "\n",
        "# Step 1: Use selected features\n",
        "selected_features = df_wine_fc  # Features selected by RFE\n",
        "target = df_target  # Target remains unchanged\n",
        "\n",
        "# Step 2: Split data into training and testing sets\n",
        "X_train, X_test, y_train, y_test = train_test_split(selected_features, target, test_size=0.2, random_state=42)\n",
        "\n",
        "# Step 3: Train the RandomForestRegressor on the selected features\n",
        "model_rf = RandomForestRegressor(n_estimators=500, random_state=0, max_depth=3)\n",
        "model_rf.fit(X_train, y_train)\n",
        "\n",
        "# Step 4: Predict on the test set\n",
        "y_pred = model_rf.predict(X_test)\n",
        "\n",
        "# Step 5: Evaluate the model's performance\n",
        "mae = mean_absolute_error(y_test, y_pred)\n",
        "mse = mean_squared_error(y_test, y_pred)\n",
        "r2 = r2_score(y_test, y_pred)\n",
        "\n",
        "# Step 6: Print results\n",
        "print(f\"Selected Features: {df_wine_fc.columns.tolist()}\")\n",
        "print(f\"Mean Absolute Error (MAE): {mae:.4f}\")\n",
        "print(f\"Mean Squared Error (MSE): {mse:.4f}\")\n",
        "print(f\"R-squared (R2): {r2:.4f}\")\n"
      ]
    },
    {
      "cell_type": "markdown",
      "metadata": {
        "id": "eZ5kAdM7RpDD"
      },
      "source": [
        "_2. Use any wrapper method to select the best features"
      ]
    },
    {
      "cell_type": "code",
      "execution_count": 75,
      "metadata": {
        "colab": {
          "base_uri": "https://localhost:8080/"
        },
        "id": "h1godUPeRpTF",
        "outputId": "12cd42bd-927f-4a88-d920-878a25c30f5a"
      },
      "outputs": [
        {
          "name": "stderr",
          "output_type": "stream",
          "text": [
            "/usr/local/lib/python3.10/dist-packages/sklearn/base.py:1473: DataConversionWarning: A column-vector y was passed when a 1d array was expected. Please change the shape of y to (n_samples,), for example using ravel().\n",
            "  return fit_method(estimator, *args, **kwargs)\n",
            "/usr/local/lib/python3.10/dist-packages/sklearn/base.py:1473: DataConversionWarning: A column-vector y was passed when a 1d array was expected. Please change the shape of y to (n_samples,), for example using ravel().\n",
            "  return fit_method(estimator, *args, **kwargs)\n",
            "/usr/local/lib/python3.10/dist-packages/sklearn/base.py:1473: DataConversionWarning: A column-vector y was passed when a 1d array was expected. Please change the shape of y to (n_samples,), for example using ravel().\n",
            "  return fit_method(estimator, *args, **kwargs)\n",
            "/usr/local/lib/python3.10/dist-packages/sklearn/base.py:1473: DataConversionWarning: A column-vector y was passed when a 1d array was expected. Please change the shape of y to (n_samples,), for example using ravel().\n",
            "  return fit_method(estimator, *args, **kwargs)\n"
          ]
        },
        {
          "name": "stdout",
          "output_type": "stream",
          "text": [
            "Index(['MedInc', 'HouseAge', 'AveRooms', 'AveOccup', 'Latitude'], dtype='object')\n"
          ]
        }
      ],
      "source": [
        "\n",
        "from sklearn.ensemble import RandomForestRegressor\n",
        "from sklearn.feature_selection import RFE\n",
        "\n",
        "# Initialize RandomForestRegressor and RFE for feature selection\n",
        "model_rf = RandomForestRegressor(n_estimators=500, random_state=0, max_depth=3)\n",
        "selector = RFE(model_rf, n_features_to_select=threshold, step=1)\n",
        "\n",
        "# Fit the RFE selector\n",
        "selector = selector.fit(df_features, df_target)\n",
        "\n",
        "# Get the selected features\n",
        "selector_ind = selector.get_support()\n",
        "df_rfe = df_features.iloc[:, selector_ind]\n",
        "\n",
        "# Display the selected feature columns\n",
        "print(df_rfe.columns)\n",
        "\n"
      ]
    },
    {
      "cell_type": "markdown",
      "metadata": {
        "id": "GdQjVaNjmyIx"
      },
      "source": [
        "##TEST THE MODEL USING Wrapper Method"
      ]
    },
    {
      "cell_type": "code",
      "execution_count": 78,
      "metadata": {
        "colab": {
          "base_uri": "https://localhost:8080/"
        },
        "id": "rTFUKOPemwhJ",
        "outputId": "19c7de25-15b1-424c-ce7a-c32ded2575b6"
      },
      "outputs": [
        {
          "name": "stderr",
          "output_type": "stream",
          "text": [
            "/usr/local/lib/python3.10/dist-packages/sklearn/base.py:1473: DataConversionWarning: A column-vector y was passed when a 1d array was expected. Please change the shape of y to (n_samples,), for example using ravel().\n",
            "  return fit_method(estimator, *args, **kwargs)\n"
          ]
        },
        {
          "name": "stdout",
          "output_type": "stream",
          "text": [
            "Selected Features: ['MedInc', 'HouseAge', 'AveRooms', 'AveOccup', 'Latitude']\n",
            "Mean Absolute Error (MAE): 0.5800\n",
            "Mean Squared Error (MSE): 0.6007\n",
            "R-squared (R2): 0.5416\n"
          ]
        }
      ],
      "source": [
        "from sklearn.ensemble import RandomForestRegressor\n",
        "from sklearn.feature_selection import RFE\n",
        "from sklearn.model_selection import train_test_split\n",
        "from sklearn.metrics import mean_absolute_error, mean_squared_error, r2_score\n",
        "\n",
        "# Step 1: Use selected features\n",
        "selected_features = df_rfe  # Features selected by RFE\n",
        "target = df_target  # Target remains unchanged\n",
        "\n",
        "# Step 2: Split data into training and testing sets\n",
        "X_train, X_test, y_train, y_test = train_test_split(selected_features, target, test_size=0.2, random_state=42)\n",
        "\n",
        "# Step 3: Train the RandomForestRegressor on the selected features\n",
        "model_rf = RandomForestRegressor(n_estimators=500, random_state=0, max_depth=3)\n",
        "model_rf.fit(X_train, y_train)\n",
        "\n",
        "# Step 4: Predict on the test set\n",
        "y_pred = model_rf.predict(X_test)\n",
        "\n",
        "# Step 5: Evaluate the model's performance\n",
        "mae = mean_absolute_error(y_test, y_pred)\n",
        "mse = mean_squared_error(y_test, y_pred)\n",
        "r2 = r2_score(y_test, y_pred)\n",
        "\n",
        "# Step 6: Print results\n",
        "print(f\"Selected Features: {df_rfe.columns.tolist()}\")\n",
        "print(f\"Mean Absolute Error (MAE): {mae:.4f}\")\n",
        "print(f\"Mean Squared Error (MSE): {mse:.4f}\")\n",
        "print(f\"R-squared (R2): {r2:.4f}\")\n"
      ]
    },
    {
      "cell_type": "markdown",
      "metadata": {
        "id": "Kq82AZxvRvTe"
      },
      "source": [
        "3. Use any embedded methood to select the best features"
      ]
    },
    {
      "cell_type": "code",
      "execution_count": 79,
      "metadata": {
        "colab": {
          "base_uri": "https://localhost:8080/"
        },
        "id": "FAU95u7Tpayg",
        "outputId": "27770a1c-1424-437a-e01b-0ae5f364c2b2"
      },
      "outputs": [
        {
          "name": "stdout",
          "output_type": "stream",
          "text": [
            "Selected Features: ['MedInc', 'AveOccup']\n",
            "Mean Absolute Error (MAE): 0.5912\n",
            "Mean Squared Error (MSE): 0.6121\n",
            "R-squared (R2): 0.5329\n"
          ]
        }
      ],
      "source": [
        "from sklearn.ensemble import RandomForestRegressor\n",
        "from sklearn.feature_selection import SelectFromModel\n",
        "from sklearn.model_selection import train_test_split\n",
        "from sklearn.metrics import mean_absolute_error, mean_squared_error, r2_score\n",
        "\n",
        "# Step 1: Train the RandomForestRegressor and perform feature selection\n",
        "model_rf = RandomForestRegressor(n_estimators=500, random_state=0, max_depth=3)\n",
        "model_rf.fit(df_features, df_target.values.ravel())\n",
        "\n",
        "# Feature selection using SelectFromModel\n",
        "sel_sfm = SelectFromModel(model_rf, prefit=True)\n",
        "sel_sfm_index = sel_sfm.get_support()\n",
        "df_wine_sfm = df_features.iloc[:, sel_sfm_index]\n",
        "\n",
        "# Display the selected feature columns\n",
        "print(f\"Selected Features: {df_wine_sfm.columns.tolist()}\")\n",
        "\n",
        "# Step 2: Prepare data for training and testing\n",
        "X_train, X_test, y_train, y_test = train_test_split(df_wine_sfm, df_target, test_size=0.2, random_state=42)\n",
        "\n",
        "# Step 3: Train the RandomForestRegressor on the selected features\n",
        "model_rf_final = RandomForestRegressor(n_estimators=500, random_state=0, max_depth=3)\n",
        "model_rf_final.fit(X_train, y_train.values.ravel())\n",
        "\n",
        "# Step 4: Predict on the test set\n",
        "y_pred = model_rf_final.predict(X_test)\n",
        "\n",
        "# Step 5: Evaluate the model's performance\n",
        "mae = mean_absolute_error(y_test, y_pred)\n",
        "mse = mean_squared_error(y_test, y_pred)\n",
        "r2 = r2_score(y_test, y_pred)\n",
        "\n",
        "# Step 6: Print results\n",
        "\n",
        "print(f\"Mean Absolute Error (MAE): {mae:.4f}\")\n",
        "print(f\"Mean Squared Error (MSE): {mse:.4f}\")\n",
        "print(f\"R-squared (R2): {r2:.4f}\")\n"
      ]
    },
    {
      "cell_type": "code",
      "execution_count": 1,
      "metadata": {},
      "outputs": [
        {
          "name": "stdout",
          "output_type": "stream",
          "text": [
            "hello\n"
          ]
        }
      ],
      "source": [
        "print(\"hello\")"
      ]
    },
    {
      "cell_type": "markdown",
      "metadata": {
        "id": "EvU5eVX6ixJZ"
      },
      "source": []
    }
  ],
  "metadata": {
    "colab": {
      "include_colab_link": true,
      "provenance": []
    },
    "kernelspec": {
      "display_name": "Python 3",
      "name": "python3"
    },
    "language_info": {
      "codemirror_mode": {
        "name": "ipython",
        "version": 3
      },
      "file_extension": ".py",
      "mimetype": "text/x-python",
      "name": "python",
      "nbconvert_exporter": "python",
      "pygments_lexer": "ipython3",
      "version": "3.13.0"
    }
  },
  "nbformat": 4,
  "nbformat_minor": 0
}
