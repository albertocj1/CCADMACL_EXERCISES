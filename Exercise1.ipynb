{
  "nbformat": 4,
  "nbformat_minor": 0,
  "metadata": {
    "colab": {
      "provenance": [],
      "include_colab_link": true
    },
    "kernelspec": {
      "name": "python3",
      "display_name": "Python 3"
    },
    "language_info": {
      "name": "python"
    }
  },
  "cells": [
    {
      "cell_type": "markdown",
      "metadata": {
        "id": "view-in-github",
        "colab_type": "text"
      },
      "source": [
        "<a href=\"https://colab.research.google.com/github/albertocj1/CCADMACL_EXERCISES/blob/main/Exercise1.ipynb\" target=\"_parent\"><img src=\"https://colab.research.google.com/assets/colab-badge.svg\" alt=\"Open In Colab\"/></a>"
      ]
    },
    {
      "cell_type": "markdown",
      "source": [
        "# Exercise 1\n",
        "\n",
        "Use all feature selection methods to find the best features"
      ],
      "metadata": {
        "id": "wyguhJBCREPq"
      }
    },
    {
      "cell_type": "markdown",
      "source": [
        "## Dataset Information\n",
        "\n",
        "## Features\n",
        "\n",
        "Number of Instances: 20640\n",
        "\n",
        "Number of Attributes: 8 numeric, predictive attributes and the target\n",
        "\n",
        "Attribute Information:\n",
        "\n",
        "MedInc - median income in block group\n",
        "\n",
        "HouseAge - median house age in block group\n",
        "\n",
        "AveRooms - average number of rooms per household\n",
        "\n",
        "AveBedrms - average number of bedrooms per household\n",
        "\n",
        "Population - block group population\n",
        "\n",
        "AveOccup - average number of household members\n",
        "\n",
        "Latitude - block group latitude\n",
        "\n",
        "Longitude - block group longitude\n",
        "\n",
        "## Target\n",
        "The target variable is the median house value for California districts, expressed in hundreds of thousands of dollars ($100,000)."
      ],
      "metadata": {
        "id": "W1nEzxdXQbpH"
      }
    },
    {
      "cell_type": "code",
      "execution_count": 70,
      "metadata": {
        "id": "ZAVjjtJ9PVED"
      },
      "outputs": [],
      "source": [
        "from sklearn.datasets import fetch_california_housing\n",
        "from sklearn.feature_selection import VarianceThreshold\n",
        "import pandas as pd"
      ]
    },
    {
      "cell_type": "code",
      "source": [
        "df_housing = fetch_california_housing()\n",
        "df_features = pd.DataFrame(df_housing.data, columns=df_housing.feature_names)\n",
        "df_target = pd.DataFrame(df_housing.target, columns=[\"target\"])"
      ],
      "metadata": {
        "id": "N12mwL2GPX48"
      },
      "execution_count": 71,
      "outputs": []
    },
    {
      "cell_type": "code",
      "source": [
        "from sklearn.ensemble import RandomForestRegressor\n",
        "from sklearn.model_selection import train_test_split\n",
        "from sklearn.metrics import mean_absolute_error, mean_squared_error, r2_score\n",
        "from sklearn.datasets import fetch_california_housing\n",
        "import pandas as pd\n",
        "\n",
        "# Load the California Housing dataset\n",
        "df_housing = fetch_california_housing()\n",
        "df_features = pd.DataFrame(df_housing.data, columns=df_housing.feature_names)\n",
        "df_target = pd.DataFrame(df_housing.target, columns=[\"target\"])\n",
        "\n",
        "# Step 1: Split data into training and testing sets\n",
        "X_train, X_test, y_train, y_test = train_test_split(df_features, df_target, test_size=0.2, random_state=42)\n",
        "\n",
        "# Step 2: Train the RandomForestRegressor\n",
        "model_rf = RandomForestRegressor(n_estimators=500, random_state=0, max_depth=3)\n",
        "model_rf.fit(X_train, y_train.values.ravel())\n",
        "\n",
        "# Step 3: Predict on the test set\n",
        "y_pred = model_rf.predict(X_test)\n",
        "\n",
        "# Step 4: Evaluate the model's performance\n",
        "mae = mean_absolute_error(y_test, y_pred)\n",
        "mse = mean_squared_error(y_test, y_pred)\n",
        "r2 = r2_score(y_test, y_pred)\n",
        "\n",
        "# Step 5: Print results\n",
        "print(df_features.columns.tolist())\n",
        "print(f\"Mean Absolute Error (MAE): {mae:.4f}\")\n",
        "print(f\"Mean Squared Error (MSE): {mse:.4f}\")\n",
        "print(f\"R-squared (R2): {r2:.4f}\")\n",
        "\n"
      ],
      "metadata": {
        "colab": {
          "base_uri": "https://localhost:8080/"
        },
        "id": "JBqSbR9xgNTj",
        "outputId": "bb269992-0973-495e-b76e-45a3cabc56ef"
      },
      "execution_count": 81,
      "outputs": [
        {
          "output_type": "stream",
          "name": "stdout",
          "text": [
            "['MedInc', 'HouseAge', 'AveRooms', 'AveBedrms', 'Population', 'AveOccup', 'Latitude', 'Longitude']\n",
            "Mean Absolute Error (MAE): 0.5800\n",
            "Mean Squared Error (MSE): 0.6007\n",
            "R-squared (R2): 0.5416\n"
          ]
        }
      ]
    },
    {
      "cell_type": "markdown",
      "source": [],
      "metadata": {
        "id": "3b0DxR-obfdD"
      }
    },
    {
      "cell_type": "markdown",
      "source": [
        "1. Use any filter method to select the best features"
      ],
      "metadata": {
        "id": "6tqvZqTtRgRe"
      }
    },
    {
      "cell_type": "markdown",
      "source": [
        "##F_classif\n"
      ],
      "metadata": {
        "id": "85hyFiU4bDrc"
      }
    },
    {
      "cell_type": "code",
      "source": [
        "from sklearn.feature_selection import f_classif\n",
        "\n",
        "threshold = 5 # the number of most relevant features\n",
        "high_score_features = []\n",
        "feature_scores = f_classif(df_features, df_target.values.ravel())[0]"
      ],
      "metadata": {
        "id": "K5DB6f6jRmUF"
      },
      "execution_count": 73,
      "outputs": []
    },
    {
      "cell_type": "code",
      "source": [
        "for score, f_name in sorted(zip(feature_scores, df_features.columns), reverse=True)[:threshold]:\n",
        "      # print(f_name, score)\n",
        "      high_score_features.append(f_name)\n",
        "\n",
        "df_wine_fc = df_features[high_score_features]\n",
        "df_wine_fc.columns"
      ],
      "metadata": {
        "colab": {
          "base_uri": "https://localhost:8080/"
        },
        "id": "EYWGAGWEb7o8",
        "outputId": "708e1d69-eaab-4110-a390-7f52ae1e7fba"
      },
      "execution_count": 74,
      "outputs": [
        {
          "output_type": "execute_result",
          "data": {
            "text/plain": [
              "Index(['MedInc', 'Latitude', 'Population', 'HouseAge', 'Longitude'], dtype='object')"
            ]
          },
          "metadata": {},
          "execution_count": 74
        }
      ]
    },
    {
      "cell_type": "code",
      "source": [
        "from sklearn.ensemble import RandomForestRegressor\n",
        "from sklearn.feature_selection import RFE\n",
        "from sklearn.model_selection import train_test_split\n",
        "from sklearn.metrics import mean_absolute_error, mean_squared_error, r2_score\n",
        "\n",
        "# Step 1: Use selected features\n",
        "selected_features = df_wine_fc  # Features selected by RFE\n",
        "target = df_target  # Target remains unchanged\n",
        "\n",
        "# Step 2: Split data into training and testing sets\n",
        "X_train, X_test, y_train, y_test = train_test_split(selected_features, target, test_size=0.2, random_state=42)\n",
        "\n",
        "# Step 3: Train the RandomForestRegressor on the selected features\n",
        "model_rf = RandomForestRegressor(n_estimators=500, random_state=0, max_depth=3)\n",
        "model_rf.fit(X_train, y_train)\n",
        "\n",
        "# Step 4: Predict on the test set\n",
        "y_pred = model_rf.predict(X_test)\n",
        "\n",
        "# Step 5: Evaluate the model's performance\n",
        "mae = mean_absolute_error(y_test, y_pred)\n",
        "mse = mean_squared_error(y_test, y_pred)\n",
        "r2 = r2_score(y_test, y_pred)\n",
        "\n",
        "# Step 6: Print results\n",
        "print(f\"Selected Features: {df_wine_fc.columns.tolist()}\")\n",
        "print(f\"Mean Absolute Error (MAE): {mae:.4f}\")\n",
        "print(f\"Mean Squared Error (MSE): {mse:.4f}\")\n",
        "print(f\"R-squared (R2): {r2:.4f}\")\n"
      ],
      "metadata": {
        "colab": {
          "base_uri": "https://localhost:8080/"
        },
        "id": "LeYHDS94m-eJ",
        "outputId": "ac940da4-e62b-4875-8e79-d4b74658865f"
      },
      "execution_count": 77,
      "outputs": [
        {
          "output_type": "stream",
          "name": "stderr",
          "text": [
            "/usr/local/lib/python3.10/dist-packages/sklearn/base.py:1473: DataConversionWarning: A column-vector y was passed when a 1d array was expected. Please change the shape of y to (n_samples,), for example using ravel().\n",
            "  return fit_method(estimator, *args, **kwargs)\n"
          ]
        },
        {
          "output_type": "stream",
          "name": "stdout",
          "text": [
            "Selected Features: ['MedInc', 'Latitude', 'Population', 'HouseAge', 'Longitude']\n",
            "Mean Absolute Error (MAE): 0.5965\n",
            "Mean Squared Error (MSE): 0.6537\n",
            "R-squared (R2): 0.5011\n"
          ]
        }
      ]
    },
    {
      "cell_type": "markdown",
      "source": [
        "_2. Use any wrapper method to select the best features"
      ],
      "metadata": {
        "id": "eZ5kAdM7RpDD"
      }
    },
    {
      "cell_type": "code",
      "source": [
        "\n",
        "from sklearn.ensemble import RandomForestRegressor\n",
        "from sklearn.feature_selection import RFE\n",
        "\n",
        "# Initialize RandomForestRegressor and RFE for feature selection\n",
        "model_rf = RandomForestRegressor(n_estimators=500, random_state=0, max_depth=3)\n",
        "selector = RFE(model_rf, n_features_to_select=threshold, step=1)\n",
        "\n",
        "# Fit the RFE selector\n",
        "selector = selector.fit(df_features, df_target)\n",
        "\n",
        "# Get the selected features\n",
        "selector_ind = selector.get_support()\n",
        "df_rfe = df_features.iloc[:, selector_ind]\n",
        "\n",
        "# Display the selected feature columns\n",
        "print(df_rfe.columns)\n",
        "\n"
      ],
      "metadata": {
        "id": "h1godUPeRpTF",
        "colab": {
          "base_uri": "https://localhost:8080/"
        },
        "outputId": "12cd42bd-927f-4a88-d920-878a25c30f5a"
      },
      "execution_count": 75,
      "outputs": [
        {
          "output_type": "stream",
          "name": "stderr",
          "text": [
            "/usr/local/lib/python3.10/dist-packages/sklearn/base.py:1473: DataConversionWarning: A column-vector y was passed when a 1d array was expected. Please change the shape of y to (n_samples,), for example using ravel().\n",
            "  return fit_method(estimator, *args, **kwargs)\n",
            "/usr/local/lib/python3.10/dist-packages/sklearn/base.py:1473: DataConversionWarning: A column-vector y was passed when a 1d array was expected. Please change the shape of y to (n_samples,), for example using ravel().\n",
            "  return fit_method(estimator, *args, **kwargs)\n",
            "/usr/local/lib/python3.10/dist-packages/sklearn/base.py:1473: DataConversionWarning: A column-vector y was passed when a 1d array was expected. Please change the shape of y to (n_samples,), for example using ravel().\n",
            "  return fit_method(estimator, *args, **kwargs)\n",
            "/usr/local/lib/python3.10/dist-packages/sklearn/base.py:1473: DataConversionWarning: A column-vector y was passed when a 1d array was expected. Please change the shape of y to (n_samples,), for example using ravel().\n",
            "  return fit_method(estimator, *args, **kwargs)\n"
          ]
        },
        {
          "output_type": "stream",
          "name": "stdout",
          "text": [
            "Index(['MedInc', 'HouseAge', 'AveRooms', 'AveOccup', 'Latitude'], dtype='object')\n"
          ]
        }
      ]
    },
    {
      "cell_type": "markdown",
      "source": [
        "##TEST THE MODEL USING Wrapper Method"
      ],
      "metadata": {
        "id": "GdQjVaNjmyIx"
      }
    },
    {
      "cell_type": "code",
      "source": [
        "from sklearn.ensemble import RandomForestRegressor\n",
        "from sklearn.feature_selection import RFE\n",
        "from sklearn.model_selection import train_test_split\n",
        "from sklearn.metrics import mean_absolute_error, mean_squared_error, r2_score\n",
        "\n",
        "# Step 1: Use selected features\n",
        "selected_features = df_rfe  # Features selected by RFE\n",
        "target = df_target  # Target remains unchanged\n",
        "\n",
        "# Step 2: Split data into training and testing sets\n",
        "X_train, X_test, y_train, y_test = train_test_split(selected_features, target, test_size=0.2, random_state=42)\n",
        "\n",
        "# Step 3: Train the RandomForestRegressor on the selected features\n",
        "model_rf = RandomForestRegressor(n_estimators=500, random_state=0, max_depth=3)\n",
        "model_rf.fit(X_train, y_train)\n",
        "\n",
        "# Step 4: Predict on the test set\n",
        "y_pred = model_rf.predict(X_test)\n",
        "\n",
        "# Step 5: Evaluate the model's performance\n",
        "mae = mean_absolute_error(y_test, y_pred)\n",
        "mse = mean_squared_error(y_test, y_pred)\n",
        "r2 = r2_score(y_test, y_pred)\n",
        "\n",
        "# Step 6: Print results\n",
        "print(f\"Selected Features: {df_rfe.columns.tolist()}\")\n",
        "print(f\"Mean Absolute Error (MAE): {mae:.4f}\")\n",
        "print(f\"Mean Squared Error (MSE): {mse:.4f}\")\n",
        "print(f\"R-squared (R2): {r2:.4f}\")\n"
      ],
      "metadata": {
        "colab": {
          "base_uri": "https://localhost:8080/"
        },
        "id": "rTFUKOPemwhJ",
        "outputId": "19c7de25-15b1-424c-ce7a-c32ded2575b6"
      },
      "execution_count": 78,
      "outputs": [
        {
          "output_type": "stream",
          "name": "stderr",
          "text": [
            "/usr/local/lib/python3.10/dist-packages/sklearn/base.py:1473: DataConversionWarning: A column-vector y was passed when a 1d array was expected. Please change the shape of y to (n_samples,), for example using ravel().\n",
            "  return fit_method(estimator, *args, **kwargs)\n"
          ]
        },
        {
          "output_type": "stream",
          "name": "stdout",
          "text": [
            "Selected Features: ['MedInc', 'HouseAge', 'AveRooms', 'AveOccup', 'Latitude']\n",
            "Mean Absolute Error (MAE): 0.5800\n",
            "Mean Squared Error (MSE): 0.6007\n",
            "R-squared (R2): 0.5416\n"
          ]
        }
      ]
    },
    {
      "cell_type": "markdown",
      "source": [
        "3. Use any embedded methood to select the best features"
      ],
      "metadata": {
        "id": "Kq82AZxvRvTe"
      }
    },
    {
      "cell_type": "code",
      "source": [
        "from sklearn.ensemble import RandomForestRegressor\n",
        "from sklearn.feature_selection import SelectFromModel\n",
        "from sklearn.model_selection import train_test_split\n",
        "from sklearn.metrics import mean_absolute_error, mean_squared_error, r2_score\n",
        "\n",
        "# Step 1: Train the RandomForestRegressor and perform feature selection\n",
        "model_rf = RandomForestRegressor(n_estimators=500, random_state=0, max_depth=3)\n",
        "model_rf.fit(df_features, df_target.values.ravel())\n",
        "\n",
        "# Feature selection using SelectFromModel\n",
        "sel_sfm = SelectFromModel(model_rf, prefit=True)\n",
        "sel_sfm_index = sel_sfm.get_support()\n",
        "df_wine_sfm = df_features.iloc[:, sel_sfm_index]\n",
        "\n",
        "# Display the selected feature columns\n",
        "print(f\"Selected Features: {df_wine_sfm.columns.tolist()}\")\n",
        "\n",
        "# Step 2: Prepare data for training and testing\n",
        "X_train, X_test, y_train, y_test = train_test_split(df_wine_sfm, df_target, test_size=0.2, random_state=42)\n",
        "\n",
        "# Step 3: Train the RandomForestRegressor on the selected features\n",
        "model_rf_final = RandomForestRegressor(n_estimators=500, random_state=0, max_depth=3)\n",
        "model_rf_final.fit(X_train, y_train.values.ravel())\n",
        "\n",
        "# Step 4: Predict on the test set\n",
        "y_pred = model_rf_final.predict(X_test)\n",
        "\n",
        "# Step 5: Evaluate the model's performance\n",
        "mae = mean_absolute_error(y_test, y_pred)\n",
        "mse = mean_squared_error(y_test, y_pred)\n",
        "r2 = r2_score(y_test, y_pred)\n",
        "\n",
        "# Step 6: Print results\n",
        "\n",
        "print(f\"Mean Absolute Error (MAE): {mae:.4f}\")\n",
        "print(f\"Mean Squared Error (MSE): {mse:.4f}\")\n",
        "print(f\"R-squared (R2): {r2:.4f}\")\n"
      ],
      "metadata": {
        "colab": {
          "base_uri": "https://localhost:8080/"
        },
        "id": "FAU95u7Tpayg",
        "outputId": "27770a1c-1424-437a-e01b-0ae5f364c2b2"
      },
      "execution_count": 79,
      "outputs": [
        {
          "output_type": "stream",
          "name": "stdout",
          "text": [
            "Selected Features: ['MedInc', 'AveOccup']\n",
            "Mean Absolute Error (MAE): 0.5912\n",
            "Mean Squared Error (MSE): 0.6121\n",
            "R-squared (R2): 0.5329\n"
          ]
        }
      ]
    },
    {
      "cell_type": "markdown",
      "source": [],
      "metadata": {
        "id": "EvU5eVX6ixJZ"
      }
    }
  ]
}